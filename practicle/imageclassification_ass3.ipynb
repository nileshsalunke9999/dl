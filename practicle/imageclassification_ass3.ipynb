{
 "cells": [
  {
   "cell_type": "markdown",
   "id": "85ffadf8",
   "metadata": {},
   "source": [
    "# Import the libraries "
   ]
  },
  {
   "cell_type": "code",
   "execution_count": 1,
   "id": "d46f3c79",
   "metadata": {},
   "outputs": [],
   "source": [
    "import tensorflow as tf\n",
    "from tensorflow import keras\n",
    "from tensorflow.keras.layers import Conv2D,MaxPooling2D,Flatten,Dense\n",
    "from tensorflow.keras.models import Sequential \n",
    "import pandas as pd\n",
    "import numpy as np\n",
    "import matplotlib.pyplot as plt\n",
    "import random\n",
    "%matplotlib inline"
   ]
  },
  {
   "cell_type": "markdown",
   "id": "c240cb66",
   "metadata": {},
   "source": [
    "# loading the data"
   ]
  },
  {
   "cell_type": "code",
   "execution_count": 2,
   "id": "495058f5",
   "metadata": {},
   "outputs": [],
   "source": [
    "#load train dataset\n",
    "x_train=np.loadtxt('input.csv',delimiter=\",\")"
   ]
  },
  {
   "cell_type": "code",
   "execution_count": 3,
   "id": "e095dd34",
   "metadata": {},
   "outputs": [],
   "source": [
    "y_train=np.loadtxt('labels.csv',delimiter=\",\")"
   ]
  },
  {
   "cell_type": "code",
   "execution_count": 4,
   "id": "b910dc22",
   "metadata": {},
   "outputs": [],
   "source": [
    "#testing\n",
    "x_test=np.loadtxt('input_test.csv',delimiter=\",\")\n",
    "y_test=np.loadtxt('labels_test.csv',delimiter=\",\")"
   ]
  },
  {
   "cell_type": "code",
   "execution_count": 5,
   "id": "87df5193",
   "metadata": {},
   "outputs": [
    {
     "name": "stdout",
     "output_type": "stream",
     "text": [
      "(2000, 30000)\n"
     ]
    }
   ],
   "source": [
    "print(x_train.shape)"
   ]
  },
  {
   "cell_type": "code",
   "execution_count": 6,
   "id": "9be1a714",
   "metadata": {},
   "outputs": [
    {
     "data": {
      "text/plain": [
       "array([37., 39., 25., ..., 58., 54., 29.])"
      ]
     },
     "execution_count": 6,
     "metadata": {},
     "output_type": "execute_result"
    }
   ],
   "source": [
    "x_train[0]"
   ]
  },
  {
   "cell_type": "markdown",
   "id": "36c5df1e",
   "metadata": {},
   "source": [
    "# preproccesing/reshaping"
   ]
  },
  {
   "cell_type": "code",
   "execution_count": 7,
   "id": "7553a9e5",
   "metadata": {},
   "outputs": [],
   "source": [
    "#training\n",
    "x_train=x_train.reshape(len(x_train),100,100,3)\n",
    "y_train=y_train.reshape(len(y_train),1)\n"
   ]
  },
  {
   "cell_type": "code",
   "execution_count": 8,
   "id": "224d4e77",
   "metadata": {},
   "outputs": [],
   "source": [
    "#testing\n",
    "x_test=x_test.reshape(len(x_test),100,100,3)\n",
    "y_test=y_test.reshape(len(y_test),1)"
   ]
  },
  {
   "cell_type": "code",
   "execution_count": 9,
   "id": "80a0e37d",
   "metadata": {},
   "outputs": [
    {
     "name": "stdout",
     "output_type": "stream",
     "text": [
      "(2000, 100, 100, 3)\n",
      "(2000, 1)\n",
      "(400, 100, 100, 3)\n",
      "(400, 1)\n"
     ]
    }
   ],
   "source": [
    "#print the reshaped data\n",
    "print(x_train.shape)\n",
    "print(y_train.shape)\n",
    "print(x_test.shape)\n",
    "print(y_test.shape)"
   ]
  },
  {
   "cell_type": "code",
   "execution_count": 10,
   "id": "f5282c1c",
   "metadata": {},
   "outputs": [
    {
     "data": {
      "text/plain": [
       "array([[[ 37.,  39.,  25.],\n",
       "        [ 26.,  24.,   9.],\n",
       "        [ 34.,  25.,  10.],\n",
       "        ...,\n",
       "        [ 57.,  44.,  35.],\n",
       "        [ 61.,  47.,  38.],\n",
       "        [ 65.,  51.,  42.]],\n",
       "\n",
       "       [[ 45.,  43.,  28.],\n",
       "        [ 28.,  25.,   8.],\n",
       "        [ 52.,  40.,  24.],\n",
       "        ...,\n",
       "        [ 54.,  41.,  32.],\n",
       "        [ 57.,  43.,  34.],\n",
       "        [ 61.,  47.,  38.]],\n",
       "\n",
       "       [[ 52.,  45.,  26.],\n",
       "        [ 32.,  24.,   5.],\n",
       "        [ 69.,  54.,  35.],\n",
       "        ...,\n",
       "        [ 54.,  40.,  29.],\n",
       "        [ 56.,  42.,  31.],\n",
       "        [ 59.,  45.,  34.]],\n",
       "\n",
       "       ...,\n",
       "\n",
       "       [[ 20.,  39.,   0.],\n",
       "        [101., 125.,  67.],\n",
       "        [152., 182., 120.],\n",
       "        ...,\n",
       "        [ 46.,  41.,  19.],\n",
       "        [ 60.,  55.,  33.],\n",
       "        [ 60.,  55.,  33.]],\n",
       "\n",
       "       [[ 46.,  65.,   9.],\n",
       "        [116., 140.,  82.],\n",
       "        [156., 186., 124.],\n",
       "        ...,\n",
       "        [ 64.,  60.,  35.],\n",
       "        [ 75.,  71.,  46.],\n",
       "        [ 72.,  68.,  43.]],\n",
       "\n",
       "       [[ 81., 100.,  44.],\n",
       "        [126., 150.,  92.],\n",
       "        [146., 176., 114.],\n",
       "        ...,\n",
       "        [ 67.,  63.,  38.],\n",
       "        [ 78.,  74.,  49.],\n",
       "        [ 58.,  54.,  29.]]])"
      ]
     },
     "execution_count": 10,
     "metadata": {},
     "output_type": "execute_result"
    }
   ],
   "source": [
    "x_train[0]"
   ]
  },
  {
   "cell_type": "code",
   "execution_count": 11,
   "id": "8df0be36",
   "metadata": {},
   "outputs": [
    {
     "data": {
      "text/plain": [
       "array([0.])"
      ]
     },
     "execution_count": 11,
     "metadata": {},
     "output_type": "execute_result"
    }
   ],
   "source": [
    "y_train[0]"
   ]
  },
  {
   "cell_type": "code",
   "execution_count": 12,
   "id": "142901a2",
   "metadata": {},
   "outputs": [],
   "source": [
    "#normalizing\n",
    "x_train=x_train/255\n",
    "x_test=x_test/255"
   ]
  },
  {
   "cell_type": "code",
   "execution_count": 13,
   "id": "3a9aeb2c",
   "metadata": {},
   "outputs": [
    {
     "data": {
      "text/plain": [
       "array([[[0.14509804, 0.15294118, 0.09803922],\n",
       "        [0.10196078, 0.09411765, 0.03529412],\n",
       "        [0.13333333, 0.09803922, 0.03921569],\n",
       "        ...,\n",
       "        [0.22352941, 0.17254902, 0.1372549 ],\n",
       "        [0.23921569, 0.18431373, 0.14901961],\n",
       "        [0.25490196, 0.2       , 0.16470588]],\n",
       "\n",
       "       [[0.17647059, 0.16862745, 0.10980392],\n",
       "        [0.10980392, 0.09803922, 0.03137255],\n",
       "        [0.20392157, 0.15686275, 0.09411765],\n",
       "        ...,\n",
       "        [0.21176471, 0.16078431, 0.1254902 ],\n",
       "        [0.22352941, 0.16862745, 0.13333333],\n",
       "        [0.23921569, 0.18431373, 0.14901961]],\n",
       "\n",
       "       [[0.20392157, 0.17647059, 0.10196078],\n",
       "        [0.1254902 , 0.09411765, 0.01960784],\n",
       "        [0.27058824, 0.21176471, 0.1372549 ],\n",
       "        ...,\n",
       "        [0.21176471, 0.15686275, 0.11372549],\n",
       "        [0.21960784, 0.16470588, 0.12156863],\n",
       "        [0.23137255, 0.17647059, 0.13333333]],\n",
       "\n",
       "       ...,\n",
       "\n",
       "       [[0.07843137, 0.15294118, 0.        ],\n",
       "        [0.39607843, 0.49019608, 0.2627451 ],\n",
       "        [0.59607843, 0.71372549, 0.47058824],\n",
       "        ...,\n",
       "        [0.18039216, 0.16078431, 0.0745098 ],\n",
       "        [0.23529412, 0.21568627, 0.12941176],\n",
       "        [0.23529412, 0.21568627, 0.12941176]],\n",
       "\n",
       "       [[0.18039216, 0.25490196, 0.03529412],\n",
       "        [0.45490196, 0.54901961, 0.32156863],\n",
       "        [0.61176471, 0.72941176, 0.48627451],\n",
       "        ...,\n",
       "        [0.25098039, 0.23529412, 0.1372549 ],\n",
       "        [0.29411765, 0.27843137, 0.18039216],\n",
       "        [0.28235294, 0.26666667, 0.16862745]],\n",
       "\n",
       "       [[0.31764706, 0.39215686, 0.17254902],\n",
       "        [0.49411765, 0.58823529, 0.36078431],\n",
       "        [0.57254902, 0.69019608, 0.44705882],\n",
       "        ...,\n",
       "        [0.2627451 , 0.24705882, 0.14901961],\n",
       "        [0.30588235, 0.29019608, 0.19215686],\n",
       "        [0.22745098, 0.21176471, 0.11372549]]])"
      ]
     },
     "execution_count": 13,
     "metadata": {},
     "output_type": "execute_result"
    }
   ],
   "source": [
    "#after normaling\n",
    "x_train[0]"
   ]
  },
  {
   "cell_type": "markdown",
   "id": "c7906bda",
   "metadata": {},
   "source": [
    "# bulid model architecture\n"
   ]
  },
  {
   "cell_type": "code",
   "execution_count": 20,
   "id": "6f845c9b",
   "metadata": {},
   "outputs": [],
   "source": [
    "model=keras.Sequential([\n",
    "    keras.layers.Conv2D(32,(3,3),activation='relu',input_shape=(100,100,3)),MaxPooling2D(2,2),\n",
    "      keras.layers.Conv2D(32,(3,3),activation='relu'),MaxPooling2D(2,2),\n",
    "                          Flatten(),\n",
    "                          Dense(64,activation='relu'),\n",
    "                          Dense(1,activation='sigmoid')\n",
    "])"
   ]
  },
  {
   "cell_type": "code",
   "execution_count": 21,
   "id": "3da9f53f",
   "metadata": {},
   "outputs": [
    {
     "name": "stdout",
     "output_type": "stream",
     "text": [
      "Model: \"sequential_1\"\n",
      "_________________________________________________________________\n",
      " Layer (type)                Output Shape              Param #   \n",
      "=================================================================\n",
      " conv2d_2 (Conv2D)           (None, 98, 98, 32)        896       \n",
      "                                                                 \n",
      " max_pooling2d_2 (MaxPooling  (None, 49, 49, 32)       0         \n",
      " 2D)                                                             \n",
      "                                                                 \n",
      " conv2d_3 (Conv2D)           (None, 47, 47, 32)        9248      \n",
      "                                                                 \n",
      " max_pooling2d_3 (MaxPooling  (None, 23, 23, 32)       0         \n",
      " 2D)                                                             \n",
      "                                                                 \n",
      " flatten_1 (Flatten)         (None, 16928)             0         \n",
      "                                                                 \n",
      " dense_2 (Dense)             (None, 64)                1083456   \n",
      "                                                                 \n",
      " dense_3 (Dense)             (None, 1)                 65        \n",
      "                                                                 \n",
      "=================================================================\n",
      "Total params: 1,093,665\n",
      "Trainable params: 1,093,665\n",
      "Non-trainable params: 0\n",
      "_________________________________________________________________\n"
     ]
    }
   ],
   "source": [
    "#see the model\n",
    "model.summary()"
   ]
  },
  {
   "cell_type": "code",
   "execution_count": 22,
   "id": "abf99e10",
   "metadata": {},
   "outputs": [],
   "source": [
    "#compile the model\n",
    "model.compile(optimizer='adam',\n",
    "              loss='binary_crossentropy',\n",
    "              metrics=['accuracy']\n",
    "             \n",
    "             )"
   ]
  },
  {
   "cell_type": "markdown",
   "id": "f9d550f8",
   "metadata": {},
   "source": [
    "# Training the model"
   ]
  },
  {
   "cell_type": "code",
   "execution_count": 24,
   "id": "a5a4614a",
   "metadata": {},
   "outputs": [
    {
     "name": "stdout",
     "output_type": "stream",
     "text": [
      "Epoch 1/5\n",
      "32/32 [==============================] - 13s 363ms/step - loss: 0.6873 - accuracy: 0.5405\n",
      "Epoch 2/5\n",
      "32/32 [==============================] - 12s 360ms/step - loss: 0.6373 - accuracy: 0.6215\n",
      "Epoch 3/5\n",
      "32/32 [==============================] - 11s 353ms/step - loss: 0.5463 - accuracy: 0.7235\n",
      "Epoch 4/5\n",
      "32/32 [==============================] - 11s 352ms/step - loss: 0.5035 - accuracy: 0.7550\n",
      "Epoch 5/5\n",
      "32/32 [==============================] - 11s 356ms/step - loss: 0.4501 - accuracy: 0.7960\n"
     ]
    },
    {
     "data": {
      "text/plain": [
       "<keras.callbacks.History at 0x295aab21930>"
      ]
     },
     "execution_count": 24,
     "metadata": {},
     "output_type": "execute_result"
    }
   ],
   "source": [
    "model.fit(x_train,y_train,epochs=5,batch_size=64)"
   ]
  },
  {
   "cell_type": "markdown",
   "id": "c84e2f29",
   "metadata": {},
   "source": [
    "# Estimating the models performance"
   ]
  },
  {
   "cell_type": "code",
   "execution_count": 27,
   "id": "5a4f6cbf",
   "metadata": {},
   "outputs": [
    {
     "name": "stdout",
     "output_type": "stream",
     "text": [
      "13/13 [==============================] - 1s 51ms/step - loss: 0.5702 - accuracy: 0.6875\n"
     ]
    },
    {
     "data": {
      "text/plain": [
       "[0.5702206492424011, 0.6875]"
      ]
     },
     "execution_count": 27,
     "metadata": {},
     "output_type": "execute_result"
    }
   ],
   "source": [
    "model.evaluate(x_test,y_test)"
   ]
  },
  {
   "cell_type": "code",
   "execution_count": 32,
   "id": "3be77564",
   "metadata": {},
   "outputs": [
    {
     "data": {
      "image/png": "[encoded data removed]",
      "text/plain": [
       "<Figure size 432x288 with 1 Axes>"
      ]
     },
     "metadata": {
      "needs_background": "light"
     },
     "output_type": "display_data"
    },
    {
     "name": "stdout",
     "output_type": "stream",
     "text": [
      "dog\n"
     ]
    }
   ],
   "source": [
    "#prediction\n",
    "n=random.randint(0,len(x_test))\n",
    "plt.imshow(x_test[0])\n",
    "plt.show()\n",
    "if(y_test[n]>0.9):\n",
    "    print(\"dog\")\n",
    "else:\n",
    "    print(\"cat\")"
   ]
  },
  {
   "cell_type": "code",
   "execution_count": null,
   "id": "6ef39722",
   "metadata": {},
   "outputs": [],
   "source": []
  }
 ],
 "metadata": {
  "kernelspec": {
   "display_name": "Python 3 (ipykernel)",
   "language": "python",
   "name": "python3"
  },
  "language_info": {
   "codemirror_mode": {
    "name": "ipython",
    "version": 3
   },
   "file_extension": ".py",
   "mimetype": "text/x-python",
   "name": "python",
   "nbconvert_exporter": "python",
   "pygments_lexer": "ipython3",
   "version": "3.10.2"
  }
 },
 "nbformat": 4,
 "nbformat_minor": 5
}
